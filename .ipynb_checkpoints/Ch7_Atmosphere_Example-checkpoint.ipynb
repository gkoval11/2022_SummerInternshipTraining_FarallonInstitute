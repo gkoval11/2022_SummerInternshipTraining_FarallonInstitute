{
 "cells": [
  {
   "cell_type": "markdown",
   "metadata": {},
   "source": [
    "# Chapter 7 - Example: Atmospheric Data \n",
    "### Analyze monthy wind data for a selected region\n",
    "\n",
    "In this chapter, we exemplify the use of an atmospheric/climate data set, the reanalysis dataset ERA-5, to analyze change in wind vectors at 10m. We characterize its variability over a given region, plot the field and calculate linear trends.\n",
    "\n",
    "[ERA-5 (ECMWF)](https://registry.opendata.aws/ecmwf-era5/) reanalysis incorporates satellite and in-situ data, and its output variables include ocean, land and atmospheric ones. Therefore, this script can be easily modified for other data. "
   ]
  },
  {
   "cell_type": "code",
   "execution_count": 1,
   "metadata": {},
   "outputs": [
    {
     "ename": "ModuleNotFoundError",
     "evalue": "No module named 'hvplot'",
     "output_type": "error",
     "traceback": [
      "\u001b[0;31m---------------------------------------------------------------------------\u001b[0m",
      "\u001b[0;31mModuleNotFoundError\u001b[0m                       Traceback (most recent call last)",
      "\u001b[0;32m/var/folders/2b/vgs22d9152n8vwvwrgv_n3sc0000gp/T/ipykernel_23781/1566363994.py\u001b[0m in \u001b[0;36m<module>\u001b[0;34m\u001b[0m\n\u001b[1;32m      8\u001b[0m \u001b[0;32mfrom\u001b[0m \u001b[0mcalendar\u001b[0m \u001b[0;32mimport\u001b[0m \u001b[0mmonthrange\u001b[0m \u001b[0;31m# gives the number of day in a month\u001b[0m\u001b[0;34m\u001b[0m\u001b[0;34m\u001b[0m\u001b[0m\n\u001b[1;32m      9\u001b[0m \u001b[0;32mimport\u001b[0m \u001b[0mmatplotlib\u001b[0m\u001b[0;34m.\u001b[0m\u001b[0mpyplot\u001b[0m \u001b[0;32mas\u001b[0m \u001b[0mplt\u001b[0m\u001b[0;34m\u001b[0m\u001b[0;34m\u001b[0m\u001b[0m\n\u001b[0;32m---> 10\u001b[0;31m \u001b[0;32mimport\u001b[0m \u001b[0mhvplot\u001b[0m\u001b[0;34m.\u001b[0m\u001b[0mpandas\u001b[0m\u001b[0;34m\u001b[0m\u001b[0;34m\u001b[0m\u001b[0m\n\u001b[0m\u001b[1;32m     11\u001b[0m \u001b[0;32mimport\u001b[0m \u001b[0mhvplot\u001b[0m\u001b[0;34m.\u001b[0m\u001b[0mxarray\u001b[0m\u001b[0;34m\u001b[0m\u001b[0;34m\u001b[0m\u001b[0m\n\u001b[1;32m     12\u001b[0m \u001b[0;32mimport\u001b[0m \u001b[0mfsspec\u001b[0m\u001b[0;34m\u001b[0m\u001b[0;34m\u001b[0m\u001b[0m\n",
      "\u001b[0;31mModuleNotFoundError\u001b[0m: No module named 'hvplot'"
     ]
    }
   ],
   "source": [
    "import warnings\n",
    "warnings.simplefilter('ignore') \n",
    "\n",
    "import numpy as np\n",
    "import pandas as pd\n",
    "import xarray as xr\n",
    "from calendar import month_abbr # function that gives you the abbreviated name of a month\n",
    "from calendar import monthrange # gives the number of day in a month\n",
    "import matplotlib.pyplot as plt \n",
    "import hvplot.pandas\n",
    "import hvplot.xarray\n",
    "import fsspec\n",
    "import s3fs\n",
    "import dask\n",
    "from dask.distributed import performance_report, Client, progress\n",
    "import os # library to interact with the operating system"
   ]
  },
  {
   "cell_type": "markdown",
   "metadata": {},
   "source": [
    "***\n",
    "## For this example we select a region, and also a specific month and a range of years to analyze"
   ]
  },
  {
   "cell_type": "code",
   "execution_count": null,
   "metadata": {},
   "outputs": [],
   "source": [
    "# Select region by defining latitude and longitude range. \n",
    "# ERA-5 data has a 1/4 degree resolution. \n",
    "latr = [39, 40] # Latitude range. Make sure lat1 < lat2 since no test is done below to simplify the code. resolution 0.25 degrees\n",
    "lonr = [-125, -123] # lon1 < lon2. and use the range -180 : 180\n",
    "# time selection\n",
    "mon = 5 # month to analyze\n",
    "iyr = 2000 # initial year. by default, we set it to the start year of ERA5 dataset\n",
    "fyr = 2021 # final year. by default, we set it to the end year of ERA5 dataset\n"
   ]
  },
  {
   "cell_type": "markdown",
   "metadata": {},
   "source": [
    "***\n",
    "## Acquire data from the AWS cloud\n",
    "\n",
    "In this case, files are stored in a different format than SST.  ERA5 data is stored in monthly files (of daily data) organized in yearly folders. Then, monhtly files have to be accessed individually."
   ]
  },
  {
   "cell_type": "code",
   "execution_count": null,
   "metadata": {
    "scrolled": true
   },
   "outputs": [],
   "source": [
    "tdt = list() # initialize a list to store the time index\n",
    "\n",
    "# v meridional component\n",
    "print('Acquiring meridional wind v10m')\n",
    "for iy, y in enumerate(range(iyr, fyr+1)): # for loop over the selected years\n",
    "    file_location = 'https://era5-pds.s3.us-east-1.amazonaws.com/zarr/'+str(y)+'/'+str(mon).zfill(2)+'/data/northward_wind_at_10_metres.zarr'\n",
    "    # filename includes: bucket name: era5-pds, year: y (transformed to string type), month: mon, and the name of the variable with extenssion zarr\n",
    "    ds = xr.open_zarr(file_location,consolidated=True) # open access to data\n",
    "\n",
    "    # generate time frame to obtain the whole month data (first to last day of selected month)\n",
    "    dte1 = str(y)+'-'+str(mon).zfill(2)+'-01'\n",
    "    dte2 = str(y)+'-'+str(mon).zfill(2)+'-'+str(monthrange(y, mon)[1]) #monthrange provides the lenght of the month\n",
    "    # select data region and time - meridional wind\n",
    "    vds = ds['northward_wind_at_10_metres'].sel(time0 = slice(dte1,dte2),\n",
    "                                            lat  = slice(latr[1],latr[0],), \n",
    "                                            lon  = slice(lonr[0]+360,lonr[1]+360)\n",
    "                                           ).mean(axis=0).load() # calculae mean before downloading it\n",
    "    if iy==0: # if the first year, create an array to store data\n",
    "        v10_dt = np.full((len(range(iyr, fyr+1)),vds.shape[0],vds.shape[1]), np.nan) # create an array of the size [years,lat,lon]\n",
    "    v10_dt[iy,:,:] = vds.data # store selected data per year\n",
    "    \n",
    "# u component\n",
    "print('Acquiring zonal wind u10m')\n",
    "for iy, y in enumerate(range(iyr, fyr+1)):\n",
    "    file_location = 'https://era5-pds.s3.us-east-1.amazonaws.com/zarr/'+str(y)+'/'+str(mon).zfill(2)+'/data/eastward_wind_at_10_metres.zarr'\n",
    "    # note that each variable has a distintive file name\n",
    "    ds = xr.open_zarr(file_location,consolidated=True)\n",
    "\n",
    "    dte1 = str(y)+'-'+str(mon).zfill(2)+'-01'\n",
    "    dte2 = str(y)+'-'+str(mon).zfill(2)+'-'+str(monthrange(y, mon)[1])\n",
    "    uds = ds['eastward_wind_at_10_metres'].sel(time0 = slice(dte1,dte2),\n",
    "                                            lat  = slice(latr[1],latr[0],), \n",
    "                                            lon  = slice(lonr[0]+360,lonr[1]+360)\n",
    "                                           ).mean(axis=0).load()\n",
    "    if iy==0: \n",
    "        u10_dt = np.full((len(range(iyr, fyr+1)),uds.shape[0],uds.shape[1]), np.nan)\n",
    "    u10_dt[iy,:,:] = uds.data \n",
    "    \n",
    "    # append month-year time to the list\n",
    "    tdt.append(str(y)+'-'+str(mon).zfill(2)+'-01') # add first day of month\n",
    "    \n"
   ]
  },
  {
   "cell_type": "code",
   "execution_count": null,
   "metadata": {},
   "outputs": [],
   "source": [
    "# Build a dataset from the selected data. not only a dataarray since we have 2 variables for the vector\n",
    "mw10 = xr.Dataset(data_vars=dict(u10m=(['time','lat','lon'],u10_dt),\n",
    "                                 v10m=(['time','lat','lon'],v10_dt), ),\n",
    "                    coords=dict(time=tdt,lat=vds.lat.values, lon=vds.lon.values-360),attrs=vds.attrs) \n",
    "# Add a wind speed variable\n",
    "mw10['wsp10m'] = np.sqrt(mw10.u10m**2+mw10.v10m**2) # calculate wind speed\n",
    "mw10.to_netcdf('./data/ERA5_wind10m_mon'+str(mon).zfill(2)+'.nc') # saving the file for a future use, so we don't have to get data again\n",
    "mw10 # taking a peek\n"
   ]
  },
  {
   "cell_type": "code",
   "execution_count": null,
   "metadata": {},
   "outputs": [],
   "source": [
    "mw10 = xr.open_dataset('./data/ERA5_wind10m_mon05.nc')\n",
    "mw10.close()\n",
    "mw10"
   ]
  },
  {
   "cell_type": "markdown",
   "metadata": {},
   "source": [
    "***\n",
    "## Plotting the data\n",
    "\n",
    "As before, there is a simple way to plot the data for quick inspection, and also a way to make the plot ready for sharing or publication."
   ]
  },
  {
   "cell_type": "code",
   "execution_count": null,
   "metadata": {},
   "outputs": [],
   "source": [
    "# simple plot of data, using the matplotlib function quiver to plot vectors\n",
    "x,y = np.meshgrid(mw10.lon,mw10.lat) # generate an lat/lon grid to plot the vectors\n",
    "plt.quiver(x, y, mw10.u10m[0,:,:], mw10.v10m[0,:,:]) \n",
    "plt.show()"
   ]
  },
  {
   "cell_type": "code",
   "execution_count": null,
   "metadata": {},
   "outputs": [],
   "source": [
    "# Now a more detailed plot\n",
    "from cartopy.mpl.ticker import LongitudeFormatter, LatitudeFormatter\n",
    "import cartopy.feature as cfeature\n",
    "import cartopy.crs as ccrs\n",
    "from calendar import month_abbr\n",
    "\n",
    "# Select a region of our data, giving it a margin\n",
    "margin = 0.5 # extra space for the plot\n",
    "region = np.array([[latr[0]-margin,latr[1]+margin],[lonr[0]-margin,lonr[1]+margin]]) # numpy array that specifies the lat/lon boundaries of our selected region\n",
    "\n",
    "# Create and set the figure context\n",
    "fig = plt.figure(figsize=(8,5)) # create a figure object, and assign it a variable name fig\n",
    "ax = plt.axes(projection=ccrs.PlateCarree()) # projection type - this one is easy to use\n",
    "ax.coastlines(resolution='50m',linewidth=2,color='black') \n",
    "ax.add_feature(cfeature.LAND, color='grey', alpha=0.3)\n",
    "ax.set_extent([region[1,0],region[1,1],region[0,0],region[0,1]],crs=ccrs.PlateCarree()) \n",
    "ax.set_xticks([*np.arange(region[1,0],region[1,1]+1,1)], crs=ccrs.PlateCarree()) # customize ticks and labels to longitude\n",
    "ax.set_yticks([*np.arange(region[0,0],region[0,1]+1,1)], crs=ccrs.PlateCarree()) # customize ticks and labels to latitude\n",
    "ax.xaxis.set_major_formatter(LongitudeFormatter(zero_direction_label=True))\n",
    "ax.yaxis.set_major_formatter(LatitudeFormatter())\n",
    "\n",
    "# Plot average wind for the selected month, color is the wind speed\n",
    "plt.quiver(x, y, mw10.u10m.mean(axis=0), mw10.v10m.mean(axis=0),mw10.wsp10m.mean(axis=0), cmap='jet')\n",
    "cbar=plt.colorbar()\n",
    "cbar.set_label('m/s') # color bar label\n",
    "plt.title('Wind for '+month_abbr[mon]+' ('+str(iyr)+'-'+str(fyr)+')')\n",
    "#fig.savefig('filename') # save your figure by usinig the method .savefig. python recognized the format from the filename extension. \n",
    "plt.show()"
   ]
  },
  {
   "cell_type": "markdown",
   "metadata": {},
   "source": [
    "*** \n",
    "## To analyze the data in time, we select only one point in space. \n",
    "But if you want to analyze the entire field, you can:\n",
    "- Average spatially using .mean(axis=(1,2)) on the variables\n",
    "- Repeat the analysis for each point (using a `for` loop)\n",
    "- Or even better: use `xarray` methods to apply a function to the array"
   ]
  },
  {
   "cell_type": "code",
   "execution_count": null,
   "metadata": {},
   "outputs": [],
   "source": [
    "print('Latitude values: ', mw10.lat.values)\n",
    "print('Longitude values: ',mw10.lon.values)"
   ]
  },
  {
   "cell_type": "code",
   "execution_count": null,
   "metadata": {},
   "outputs": [],
   "source": [
    "# select a point from the range of latitude and longitude values above\n",
    "slat = 39 # selected latitude\n",
    "slon = -124 # selected longitude"
   ]
  },
  {
   "cell_type": "code",
   "execution_count": null,
   "metadata": {},
   "outputs": [],
   "source": [
    "# Select data for an specific location, and do a simple plot of each variable\n",
    "plt.figure(figsize=(12,8))\n",
    "\n",
    "# meridional wind change\n",
    "plt.subplot(2,2,1)\n",
    "plt.plot(range(iyr,fyr+1),mw10.v10m.sel(lat=slat,lon=slon), 'bd-',zorder=2)\n",
    "plt.axhline(y=0,c='k', alpha=0.4)\n",
    "plt.ylabel('Wind speed (m/s)')\n",
    "plt.title('Meridional wind (v), Lat='+str(slat)+', Lon='+str(slon))\n",
    "plt.grid(zorder=0)\n",
    "\n",
    "# zonal wind change\n",
    "plt.subplot(2,2,2)\n",
    "plt.plot(range(iyr,fyr+1),mw10.u10m.sel(lat=slat,lon=slon), 'go-',zorder=2)\n",
    "plt.axhline(y=0,c='k', alpha=0.4)\n",
    "plt.ylabel('Wind speed (m/s)')\n",
    "plt.title('Zonal wind (u), Lat='+str(slat)+', Lon='+str(slon))\n",
    "plt.grid(zorder=0)\n",
    "\n",
    "# wind speed change\n",
    "plt.subplot(2,2,3)\n",
    "plt.plot(range(iyr,fyr+1), mw10.wsp10m.sel(lat=slat,lon=slon), 's-',c='darkorange',zorder=2)\n",
    "plt.axhline(y=0,c='k', alpha=0.4)\n",
    "plt.ylabel('Wind speed (m/s)')\n",
    "plt.title('Wind speed, Lat='+str(slat)+', Lon='+str(slon))\n",
    "plt.grid(zorder=0)\n",
    "\n",
    "plt.tight_layout()\n",
    "plt.show()"
   ]
  },
  {
   "cell_type": "markdown",
   "metadata": {},
   "source": [
    "***\n",
    "## Now, let's calculate the temporal trend on one of the wind variables, using a first degree linear regression "
   ]
  },
  {
   "cell_type": "code",
   "execution_count": null,
   "metadata": {},
   "outputs": [],
   "source": [
    "# libraries for statistics and machine learning functions\n",
    "from sklearn.preprocessing import PolynomialFeatures\n",
    "import statsmodels.api as sm\n",
    "\n",
    "var='wsp10m' # select a variable from our Dataset\n",
    "\n",
    "x = np.array([*range(iyr,fyr+1)]).reshape(-1,1) # we generate an array of years, and transpose it by using .reshape(-1,1)\n",
    "y = mw10[var].sel(lat=slat,lon=slon).values.reshape(-1,1) # selected variable at the selected point\n",
    "\n",
    "polf = PolynomialFeatures(1) # linear regression (order=1)\n",
    "xp = polf.fit_transform(x) # generate a array with the years and a dummy / constant variable\n",
    "mods = sm.OLS(y,xp).fit() # calculate regression model, stored in mods\n",
    "\n",
    "print(mods.summary()) # each variable of the modell can also be accessed individually\n",
    "\n",
    "# this summary shows different metrics and significance levels along with the equation variables and constants. \n",
    "# for more details see the resources section below"
   ]
  },
  {
   "cell_type": "markdown",
   "metadata": {},
   "source": [
    "***\n",
    "# Resources\n",
    "**Data**\n",
    "- AWS [ERA-5 (ECMWF)](https://registry.opendata.aws/ecmwf-era5/) reanalysis data.\n",
    "This page also has links to other tutorials that use other libraries.\n",
    "- [List of data available](https://github.com/planet-os/notebooks/blob/master/aws/era5-pds.md) on ERA5 and details on how the files are organized.\n",
    "- Google Earth Engine ERA-5 data. [[Monthly]](https://developers.google.com/earth-engine/datasets/catalog/ECMWF_ERA5_MONTHLY#bands) [[Daily]](https://developers.google.com/earth-engine/datasets/catalog/ECMWF_ERA5_DAILY).\n",
    "\n",
    "**More on the libraries:**\n",
    "- [xarray apply](https://www.programcreek.com/python/example/123575/xarray.apply_ufunc) Examples on how to apply a function to an xarray structure\n",
    "- [sckit-learn (sklearn)](https://scikit-learn.org/stable/) a library for machine learning functions\n",
    "- [statsmodels](https://www.statsmodels.org/stable/user-guide.html) a library to calculalte statistical models.\n",
    "\n",
    "\n"
   ]
  },
  {
   "cell_type": "code",
   "execution_count": null,
   "metadata": {},
   "outputs": [],
   "source": []
  }
 ],
 "metadata": {
  "kernelspec": {
   "display_name": "Python 3 (ipykernel)",
   "language": "python",
   "name": "python3"
  },
  "language_info": {
   "codemirror_mode": {
    "name": "ipython",
    "version": 3
   },
   "file_extension": ".py",
   "mimetype": "text/x-python",
   "name": "python",
   "nbconvert_exporter": "python",
   "pygments_lexer": "ipython3",
   "version": "3.9.7"
  }
 },
 "nbformat": 4,
 "nbformat_minor": 4
}
