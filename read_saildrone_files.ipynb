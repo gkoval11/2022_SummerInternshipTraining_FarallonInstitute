{
 "cells": [
  {
   "cell_type": "code",
   "execution_count": null,
   "id": "30c5804a",
   "metadata": {},
   "outputs": [],
   "source": [
    "import numpy as np\n",
    "import pandas as pd\n",
    "import xarray as xr\n",
    "import matplotlib.pyplot as plt\n",
    "import math\n",
    "import glob\n",
    "import warnings\n",
    "warnings.simplefilter('ignore') # filter some warning messages"
   ]
  },
  {
   "cell_type": "code",
   "execution_count": null,
   "id": "36f6b1ac",
   "metadata": {},
   "outputs": [],
   "source": [
    "ddir = './saildrone_data/'\n",
    "fns = glob.glob(ddir+'*.nc')\n",
    "fns"
   ]
  },
  {
   "cell_type": "code",
   "execution_count": null,
   "id": "8699d75d",
   "metadata": {},
   "outputs": [],
   "source": [
    "plt.figure(figsize=(12,6))\n",
    "\n",
    "d = 0\n",
    "for i in fns:\n",
    "    ds = xr.open_dataset(i)\n",
    "    ds.close()  \n",
    "    \n",
    "    plt.scatter(ds.time.dt.dayofyear,ds['TEMP_CTD_MEAN'],5,ds['TEMP_CTD_MEAN'],'o', cmap='jet')\n",
    "    \n",
    "plt.grid(zorder=0, alpha=0.5)\n",
    "plt.show()"
   ]
  },
  {
   "cell_type": "code",
   "execution_count": null,
   "id": "25015036",
   "metadata": {},
   "outputs": [],
   "source": []
  }
 ],
 "metadata": {
  "kernelspec": {
   "display_name": "Python 3 (ipykernel)",
   "language": "python",
   "name": "python3"
  },
  "language_info": {
   "codemirror_mode": {
    "name": "ipython",
    "version": 3
   },
   "file_extension": ".py",
   "mimetype": "text/x-python",
   "name": "python",
   "nbconvert_exporter": "python",
   "pygments_lexer": "ipython3",
   "version": "3.9.12"
  }
 },
 "nbformat": 4,
 "nbformat_minor": 5
}
